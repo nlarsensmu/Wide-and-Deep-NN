{
 "cells": [
  {
   "cell_type": "markdown",
   "id": "academic-count",
   "metadata": {},
   "source": [
    "# Lab 5 Wide and Deep Neural Networks\n",
    "* Nicholas Larsen\n",
    "* Steven Larsen\n",
    "\n",
    "Dataset: https://www.kaggle.com/radmirzosimov/telecom-users-dataset?select=telecom_users.csv\n",
    "\n",
    "## Feature Description:\n",
    "* Unnamed: Does not have information to what this means, it is just dropped for our purposes\n",
    "* customerID: This is a unique identifier for each customer, this does not have any meaning other than for indentifying, it will be droped\n",
    "* gender: The gender of the client\n",
    "* SeniorCitizen: Whether or not the client is a senior citizen (0) or (1) if not\n",
    "* Partner: Yes if the client is married, no if not\n",
    "* Dependents: Yes if the client has dependants, no if not\n",
    "* tenure: amount of months with the company\n",
    "* PhoneService: yes if a phone is installed, no if not\n",
    "* MultileLines: Yes if there is 2 or more lines, no if 1 line, no phone service if there is no phone service (3 categories)\n",
    "* InternetService: Fiber optic, DSL, No\n",
    "* OnlineSecurity: Yes if the online security service is activated, no if not, no internet service if no internet is used\n",
    "* OnlineBackup: Yes if the backup service is enabled, no if not, no internet service is there is no internet for the client\n",
    "* DeviceProtection: Yes if device protections is used, no if not, no internet service if no internet is used\n",
    "* TechSupport: Yes if tech support service is connected, no if not, and no internet service if there is no internet used\n",
    "* StreamingTV: Yes if the streaming TV service is activated, no if not and no internet service if there is no internet used\n",
    "* StreamingMovies: yes if the srreaming cinema service is activated, no if not and no internet service if there is no internet used\n",
    "* Contract: type of contrant, month-to-month, one year or two year\n",
    "* PaperlessBilling: Pyament method, eletronic check, mailed check, bank, creditcard\n",
    "* MonthlyCharges: current monthly payment\n",
    "* TotalCharges: the total charges the client has paid to date\n",
    "* Churn: (target feature) whether or not the client continued after the contract."
   ]
  }
 ],
 "metadata": {
  "kernelspec": {
   "display_name": "Python 3",
   "language": "python",
   "name": "python3"
  },
  "language_info": {
   "codemirror_mode": {
    "name": "ipython",
    "version": 3
   },
   "file_extension": ".py",
   "mimetype": "text/x-python",
   "name": "python",
   "nbconvert_exporter": "python",
   "pygments_lexer": "ipython3",
   "version": "3.7.9"
  }
 },
 "nbformat": 4,
 "nbformat_minor": 5
}
